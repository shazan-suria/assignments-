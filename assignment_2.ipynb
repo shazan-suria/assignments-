{
 "cells": [
  {
   "cell_type": "code",
   "execution_count": 2,
   "id": "4ad5f8a1-32ce-4e38-ae67-3a1b8249b5d9",
   "metadata": {},
   "outputs": [
    {
     "name": "stdin",
     "output_type": "stream",
     "text": [
      "Enter your percentage 56\n"
     ]
    },
    {
     "name": "stdout",
     "output_type": "stream",
     "text": [
      "Greade D\n"
     ]
    }
   ],
   "source": [
    "#ans_1\n",
    "per=float(input(\"Enter your percentage\"))#taking percentage from user\n",
    "#checking condition \n",
    "if per>90:\n",
    "    print(\"Greade A\")\n",
    "elif per<=90 and per>80:\n",
    "    print(\"Greade B\")\n",
    "elif per<=80 and per>=60:\n",
    "    print(\"Greade C\")\n",
    "elif per<60:\n",
    "    print(\"Greade D\")\n",
    "else:\n",
    "    print(\"Error:inalid input\")"
   ]
  },
  {
   "cell_type": "code",
   "execution_count": 3,
   "id": "69ba5bf8-30c0-4b3b-983b-922b602df555",
   "metadata": {},
   "outputs": [
    {
     "name": "stdin",
     "output_type": "stream",
     "text": [
      "Enter the Cost Price of bike in Rs 699999\n"
     ]
    },
    {
     "name": "stdout",
     "output_type": "stream",
     "text": [
      "your road tax = 15%\n"
     ]
    }
   ],
   "source": [
    "#ans_2\n",
    "pri=float(input(\"Enter the Cost Price of bike in Rs\"))#taking the price from user\n",
    "#checking condition \n",
    "if pri<0:\n",
    "    print(\"Error:price can not be in negative\")\n",
    "elif pri>100000:\n",
    "    print(\"your road tax = 15%\")\n",
    "elif pri<=100000 and pri>50000:\n",
    "    print(\"your road tax = 10%\")\n",
    "else:\n",
    "    print(\"your road tax = 5%\")"
   ]
  },
  {
   "cell_type": "code",
   "execution_count": 4,
   "id": "9594ec76-0311-48cb-a1b5-e6ff7c9772b2",
   "metadata": {},
   "outputs": [
    {
     "name": "stdin",
     "output_type": "stream",
     "text": [
      "Enter tour City name delhi\n"
     ]
    },
    {
     "name": "stdout",
     "output_type": "stream",
     "text": [
      "The monument of your city is Red Fort\n"
     ]
    }
   ],
   "source": [
    "#ans_3\n",
    "ct=input(\"Enter tour City name\")#taking input from the user in 'ct'\n",
    "#checking the condition \n",
    "if ct==\"Delhi\" or ct==\"delhi\" or ct==\"DELHI\":\n",
    "    print(\"The monument of your city is Red Fort\")\n",
    "elif ct==\"Agra\" or ct==\"agra\" or ct==\"AGRA\":\n",
    "    print(\"The monument of your city is Taj Mahal\")\n",
    "elif ct==\"jaipur\" or ct==\"Jaipur\" or ct==\"JAIPUR\":\n",
    "    print(\"The monument of your city is Jal Mahal\")\n",
    "else:\n",
    "    print(\"Sorry for the inconvenience, but we didn't find your City in our data\")"
   ]
  },
  {
   "cell_type": "code",
   "execution_count": 9,
   "id": "ec33dfb5-3efd-4097-b4c3-434fbc4f58b5",
   "metadata": {},
   "outputs": [
    {
     "name": "stdin",
     "output_type": "stream",
     "text": [
      "Enter a number 120\n"
     ]
    },
    {
     "data": {
      "text/plain": [
       "1"
      ]
     },
     "execution_count": 9,
     "metadata": {},
     "output_type": "execute_result"
    }
   ],
   "source": [
    "#ans_4\n",
    "no=float(input(\"Enter a number\"))\n",
    "count=0\n",
    "while(no>=10):\n",
    "    if(no%3==0):\n",
    "        count+=1\n",
    "        no/=3\n",
    "    else:\n",
    "        no/=3\n",
    "count"
   ]
  },
  {
   "cell_type": "code",
   "execution_count": 19,
   "id": "8a1970a0-28e5-40cd-8120-f34c0d54feef",
   "metadata": {},
   "outputs": [
    {
     "name": "stdin",
     "output_type": "stream",
     "text": [
      "Enter your number 5\n"
     ]
    },
    {
     "data": {
      "text/plain": [
       "15"
      ]
     },
     "execution_count": 19,
     "metadata": {},
     "output_type": "execute_result"
    }
   ],
   "source": [
    "#ans_5\n",
    "#A \"While\" Loop is used to repeat a specific block of code an unknown\n",
    "# number of times, until a condition is met.\n",
    "# It is used where we dont konw the range\n",
    "# Ex:-\n",
    "# To print the sum of n numbers numbers\n",
    "no=int(input(\"Enter your number\"))\n",
    "s=0\n",
    "while(no>0):\n",
    "    s+=no\n",
    "    no-=1\n",
    "s"
   ]
  },
  {
   "cell_type": "code",
   "execution_count": 16,
   "id": "2771f088-46f5-482d-8133-de8f680fa98b",
   "metadata": {},
   "outputs": [
    {
     "name": "stdout",
     "output_type": "stream",
     "text": [
      "pattern_1\n",
      "* * * * * \n",
      "* * * * * \n",
      "* * * * * \n",
      "* * * * * \n",
      "* * * * * \n",
      "pattern_2\n",
      "* \n",
      "* * \n",
      "* * * \n",
      "* * * * \n",
      "* * * * * \n",
      "pattern_3\n",
      "* * * * * \n",
      "* * * * \n",
      "* * * \n",
      "* * \n",
      "* \n"
     ]
    }
   ],
   "source": [
    "#ans_6\n",
    "#pattern_1\n",
    "print(\"pattern_1\")\n",
    "i=1\n",
    "while(i<=5):\n",
    "    j=1\n",
    "    while(j<=5):\n",
    "        print(\"*\",end=\" \")\n",
    "        j+=1\n",
    "    print()\n",
    "    i+=1\n",
    "#pattern_2\n",
    "print(\"pattern_2\")\n",
    "i=1\n",
    "while(i<=5):\n",
    "    j=1\n",
    "    while(j<=i):\n",
    "        print(\"*\",end=\" \")\n",
    "        j+=1\n",
    "    print()\n",
    "    i+=1\n",
    "#pattern_3\n",
    "print(\"pattern_3\")\n",
    "i=5\n",
    "while(i>=1):\n",
    "    j=1\n",
    "    while(j<=i):\n",
    "        print(\"*\",end=\" \")\n",
    "        j+=1\n",
    "    print()\n",
    "    i-=1"
   ]
  },
  {
   "cell_type": "code",
   "execution_count": 17,
   "id": "b739af9e-e3f7-44e0-b104-6cab2f829e0e",
   "metadata": {},
   "outputs": [
    {
     "name": "stdout",
     "output_type": "stream",
     "text": [
      "10\n",
      "9\n",
      "8\n",
      "7\n",
      "6\n",
      "5\n",
      "4\n",
      "3\n",
      "2\n",
      "1\n"
     ]
    }
   ],
   "source": [
    "#ans_7\n",
    "i=10\n",
    "while(i>0):\n",
    "    print(i)\n",
    "    i-=1"
   ]
  },
  {
   "cell_type": "code",
   "execution_count": null,
   "id": "b5b8b226-c051-4ebd-97b7-bb9da6c25835",
   "metadata": {},
   "outputs": [],
   "source": [
    "#ans_7\n",
    "i=10\n",
    "while(i>0):\n",
    "    print(i)\n",
    "    i-=1"
   ]
  }
 ],
 "metadata": {
  "kernelspec": {
   "display_name": "Python 3 (ipykernel)",
   "language": "python",
   "name": "python3"
  },
  "language_info": {
   "codemirror_mode": {
    "name": "ipython",
    "version": 3
   },
   "file_extension": ".py",
   "mimetype": "text/x-python",
   "name": "python",
   "nbconvert_exporter": "python",
   "pygments_lexer": "ipython3",
   "version": "3.10.8"
  }
 },
 "nbformat": 4,
 "nbformat_minor": 5
}
