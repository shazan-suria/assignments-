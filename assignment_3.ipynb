{
 "cells": [
  {
   "cell_type": "code",
   "execution_count": 1,
   "id": "f7c7f514-b478-4a7a-ae14-817b174a9eab",
   "metadata": {},
   "outputs": [
    {
     "data": {
      "text/plain": [
       "'for loop :-\\n    >It is used where we have the range for performing a task.\\n   while loop:-\\n    >It is use when we dont have the range or we want to end the loop at some\\n    condition.\\n'"
      ]
     },
     "execution_count": 1,
     "metadata": {},
     "output_type": "execute_result"
    }
   ],
   "source": [
    "#ans_1\n",
    "# Explain with an example each when to use a for loop and a while loop.\n",
    "'''for loop :-\n",
    "    >It is used where we have the range for performing a task.\n",
    "   while loop:-\n",
    "    >It is use when we dont have the range or we want to end the loop at some\n",
    "    condition.\n",
    "'''    "
   ]
  },
  {
   "cell_type": "code",
   "execution_count": 4,
   "id": "b229bce6-58de-433e-ad5c-acea6cb7f94d",
   "metadata": {},
   "outputs": [
    {
     "name": "stdout",
     "output_type": "stream",
     "text": [
      "sum of first 10 natural numbers using for loop: 55\n",
      "product of first 10 natural numbers using for loop: 3628800\n",
      "sum of first 10 natural numbers using while loop: 55\n",
      "product of first 10 natural numbers using while loop: 3628800\n"
     ]
    }
   ],
   "source": [
    "#ans_2\n",
    "# Write a python program to print the sum and product of the first 10 natural numbers using for\n",
    "# and while loop.\n",
    "#sum and product of first 10 natural numbers using for loop\n",
    "s=0\n",
    "p=1\n",
    "for i in range(1,11):\n",
    "    s+=i\n",
    "    p*=i\n",
    "print(\"sum of first 10 natural numbers using for loop:\",s)\n",
    "print(\"product of first 10 natural numbers using for loop:\",p)\n",
    "#sum and product of first 10 natural numbers using while loop\n",
    "i=1\n",
    "su=0\n",
    "pr=1\n",
    "while i<11:\n",
    "    su+=i\n",
    "    pr*=i\n",
    "    i+=1\n",
    "print(\"sum of first 10 natural numbers using while loop:\",su)\n",
    "print(\"product of first 10 natural numbers using while loop:\",pr)"
   ]
  },
  {
   "cell_type": "code",
   "execution_count": 34,
   "id": "a19f6954-5fd9-48de-8ac4-07b89bb238bb",
   "metadata": {},
   "outputs": [
    {
     "name": "stdin",
     "output_type": "stream",
     "text": [
      "Enter your electrical unit which mansion in your bill 310\n"
     ]
    },
    {
     "name": "stdout",
     "output_type": "stream",
     "text": [
      "your electricity bill in rupees is: 2250.0\n"
     ]
    }
   ],
   "source": [
    "#ans_3\n",
    "# Create a python program to compute the electricity bill for a household.\n",
    "# The per-unit charges in rupees are as follows: For the first 100 units, the user will be charged Rs. 4.5 per\n",
    "# unit, for the next 100 units, the user will be charged Rs. 6 per unit, and for the next 100 units, the user will\n",
    "# be charged Rs. 10 per unit, After 300 units and above the user will be charged Rs. 20 per unit.\n",
    "# You are required to take the units of electricity consumed in a month from the user as input.\n",
    "# Your program must pass this test case: when the unit of electricity consumed by the user in a month is\n",
    "# 310, the total electricity bill should be 2250.\n",
    "bl=float(input(\"Enter your electrical unit which mansion in your bill\"))\n",
    "if(bl<0):\n",
    "    print(\"Error:invalid input\")\n",
    "elif(bl<=100):\n",
    "    print(\"your electricity bill in rupees is:\",bl*4.5)\n",
    "elif(bl<=200):\n",
    "    print(\"your electricity bill in rupees is:\",(100*4.5)+((bl-100)*6))\n",
    "elif(bl<=300):\n",
    "    print(\"your electricity bill in rupees is:\",(100*4.5)+(100*6)+((bl-200)*10))\n",
    "else:\n",
    "    print(\"your electricity bill in rupees is:\",(100*4.5)+(100*6)+(100*10)+((bl-300)*20))"
   ]
  },
  {
   "cell_type": "code",
   "execution_count": 35,
   "id": "f8756410-48ff-4f55-9611-02f4e976e60d",
   "metadata": {},
   "outputs": [
    {
     "name": "stdout",
     "output_type": "stream",
     "text": [
      "from for loop\n",
      "[2, 4, 5, 6, 8, 10, 12, 14, 15, 16, 18, 20, 22, 24, 25, 26, 28, 30, 32, 34, 35, 36, 38, 40, 42, 44, 45, 46, 48, 50, 52, 54, 55, 56, 58, 60, 62, 64, 65, 66, 68, 70, 72, 74, 75, 76, 78, 80, 82, 84, 85, 86, 88, 90, 92, 94, 95, 96, 98, 100]\n",
      "[2, 4, 5, 6, 8, 10, 12, 14, 15, 16, 18, 20, 22, 24, 25, 26, 28, 30, 32, 34, 35, 36, 38, 40, 42, 44, 45, 46, 48, 50, 52, 54, 55, 56, 58, 60, 62, 64, 65, 66, 68, 70, 72, 74, 75, 76, 78, 80, 82, 84, 85, 86, 88, 90, 92, 94, 95, 96, 98, 100]\n"
     ]
    }
   ],
   "source": [
    "#ans_4\n",
    "#Create a list of numbers from 1 to 100. Use for loop and while loop to calculate the cube of each\n",
    "# number and if the cube of that number is divisible by 4 or 5 then append that number in a list and print\n",
    "# that list.\n",
    "#from for loop\n",
    "print(\"from for loop\")\n",
    "lc=[]\n",
    "for i in range(1,101):\n",
    "    if((i**3)%4==0 or (i**3)%5==0):\n",
    "        lc.append(i)\n",
    "print(lc)\n",
    "#form while loop\n",
    "l=[]\n",
    "i=1\n",
    "while(i<=100):\n",
    "    if((i**3)%4==0 or (i**3)%5==0):\n",
    "        l.append(i)\n",
    "        i+=1\n",
    "    else:\n",
    "        i+=1\n",
    "print(l)"
   ]
  },
  {
   "cell_type": "code",
   "execution_count": 32,
   "id": "66d0ce32-cc0e-4099-a693-cd830dad21ff",
   "metadata": {},
   "outputs": [
    {
     "name": "stdout",
     "output_type": "stream",
     "text": [
      "Number of vowels = 12\n"
     ]
    }
   ],
   "source": [
    "# Write a program to filter count vowels in the below-given string.\n",
    "# string = \"I want to become a data scientist\"\n",
    "#ans_5\n",
    "str=\"I want to become a data scientist\"\n",
    "count=0\n",
    "l=['a','e','i','o','u','A','E','I','O','U']\n",
    "for i in str:\n",
    "    if(i in l):\n",
    "        count+=1\n",
    "print(\"Number of vowels =\",count)"
   ]
  },
  {
   "cell_type": "code",
   "execution_count": null,
   "id": "35b9e89f-5f80-4642-81fa-eca54d753d9f",
   "metadata": {},
   "outputs": [],
   "source": []
  }
 ],
 "metadata": {
  "kernelspec": {
   "display_name": "Python 3 (ipykernel)",
   "language": "python",
   "name": "python3"
  },
  "language_info": {
   "codemirror_mode": {
    "name": "ipython",
    "version": 3
   },
   "file_extension": ".py",
   "mimetype": "text/x-python",
   "name": "python",
   "nbconvert_exporter": "python",
   "pygments_lexer": "ipython3",
   "version": "3.10.8"
  }
 },
 "nbformat": 4,
 "nbformat_minor": 5
}
