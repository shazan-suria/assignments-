{
 "cells": [
  {
   "cell_type": "code",
   "execution_count": 2,
   "id": "be000175-2f53-4e47-91d4-0becfbf6951c",
   "metadata": {},
   "outputs": [
    {
     "name": "stdin",
     "output_type": "stream",
     "text": [
      "Enter your password SHazan@#$1\n"
     ]
    },
    {
     "data": {
      "text/plain": [
       "'Valid Password'"
      ]
     },
     "execution_count": 2,
     "metadata": {},
     "output_type": "execute_result"
    }
   ],
   "source": [
    "#ans_1\n",
    "def validation(given_password):\n",
    "    s='''! \" # % & ' ( ) * + , - . / : ; < = > ? @ [ \\  ] ^ _ ` { | } ~ $'''\n",
    "    l=s.split()\n",
    "    l.append(\" \")\n",
    "    upper_count=0\n",
    "    lower_count=0\n",
    "    num_count=0\n",
    "    special_count=0\n",
    "    count=0\n",
    "    for i in given_password:\n",
    "        count+=1\n",
    "        if i.isupper()==True:\n",
    "            upper_count+=1\n",
    "        elif i.islower()==True:\n",
    "            lower_count+=1\n",
    "        elif i in l:\n",
    "            special_count+=1\n",
    "        elif i.isnumeric()==True:\n",
    "            num_count+=1\n",
    "    if count==10 and upper_count>=2 and lower_count>=2 and num_count>=1 and special_count>=3:\n",
    "        return \"Valid Password\"\n",
    "    else:\n",
    "        return \"Invalid Password\"\n",
    "s=input(\"Enter your password\")\n",
    "validation(s)    "
   ]
  },
  {
   "cell_type": "code",
   "execution_count": 3,
   "id": "539c7737-c779-4182-aa8e-4dcf6aeb37b5",
   "metadata": {},
   "outputs": [
    {
     "name": "stdin",
     "output_type": "stream",
     "text": [
      "Enter string shazan\n"
     ]
    },
    {
     "data": {
      "text/plain": [
       "True"
      ]
     },
     "execution_count": 3,
     "metadata": {},
     "output_type": "execute_result"
    }
   ],
   "source": [
    "#ans_2\n",
    "s1=input(\"Enter string\")\n",
    "f=lambda x:x[0].isalpha()\n",
    "f(s1)"
   ]
  },
  {
   "cell_type": "code",
   "execution_count": 4,
   "id": "9c9e0485-37bc-441e-9a00-bd819c24f03f",
   "metadata": {},
   "outputs": [
    {
     "name": "stdin",
     "output_type": "stream",
     "text": [
      "Enter string 234123\n"
     ]
    },
    {
     "data": {
      "text/plain": [
       "True"
      ]
     },
     "execution_count": 4,
     "metadata": {},
     "output_type": "execute_result"
    }
   ],
   "source": [
    "s2=input(\"Enter string\")\n",
    "f1=lambda x:x.isnumeric()\n",
    "f1(s2)"
   ]
  },
  {
   "cell_type": "code",
   "execution_count": 5,
   "id": "510e5092-f9d5-4f29-80cf-58beba7f687f",
   "metadata": {},
   "outputs": [
    {
     "data": {
      "text/plain": [
       "[('orange', 80), ('mango', 99), ('grapes', 1000)]"
      ]
     },
     "execution_count": 5,
     "metadata": {},
     "output_type": "execute_result"
    }
   ],
   "source": [
    "l=[(\"mango\",99),(\"orange\",80), (\"grapes\", 1000)]\n",
    "l.sort(key=lambda x:x[1])\n",
    "l"
   ]
  },
  {
   "cell_type": "code",
   "execution_count": 6,
   "id": "60e0598e-388d-44e1-a986-1482b93dd171",
   "metadata": {},
   "outputs": [
    {
     "data": {
      "text/plain": [
       "[1, 4, 9, 16, 25, 36, 49, 64, 81, 100]"
      ]
     },
     "execution_count": 6,
     "metadata": {},
     "output_type": "execute_result"
    }
   ],
   "source": [
    "[i**2 for i in range(1,11)]"
   ]
  },
  {
   "cell_type": "code",
   "execution_count": 7,
   "id": "64c5068b-9da1-43f5-ba1f-45238bd25286",
   "metadata": {},
   "outputs": [
    {
     "data": {
      "text/plain": [
       "[1.0,\n",
       " 1.2599210498948732,\n",
       " 1.4422495703074083,\n",
       " 1.5874010519681994,\n",
       " 1.7099759466766968,\n",
       " 1.8171205928321397,\n",
       " 1.912931182772389,\n",
       " 2.0,\n",
       " 2.080083823051904,\n",
       " 2.154434690031884]"
      ]
     },
     "execution_count": 7,
     "metadata": {},
     "output_type": "execute_result"
    }
   ],
   "source": [
    "[i**(1/3) for i in range(1,11)]"
   ]
  },
  {
   "cell_type": "code",
   "execution_count": 8,
   "id": "3f639c9a-ec3f-44d0-bdcc-270b53645262",
   "metadata": {},
   "outputs": [
    {
     "name": "stdin",
     "output_type": "stream",
     "text": [
      "Enter the number 456\n"
     ]
    },
    {
     "data": {
      "text/plain": [
       "True"
      ]
     },
     "execution_count": 8,
     "metadata": {},
     "output_type": "execute_result"
    }
   ],
   "source": [
    "no=int(input(\"Enter the number\"))\n",
    "f3=lambda x:x%2==0\n",
    "f3(no)"
   ]
  },
  {
   "cell_type": "code",
   "execution_count": 9,
   "id": "30947d39-3031-4063-b942-bdc189660997",
   "metadata": {},
   "outputs": [
    {
     "data": {
      "text/plain": [
       "[1, 3, 5, 7, 9]"
      ]
     },
     "execution_count": 9,
     "metadata": {},
     "output_type": "execute_result"
    }
   ],
   "source": [
    "l1=[1,2,3,4,5,6,7,8,9,10]\n",
    "l2=list(filter(lambda x:x%2!=0,l1))\n",
    "l2"
   ]
  },
  {
   "cell_type": "code",
   "execution_count": 10,
   "id": "02ec22a9-fbd7-4f9c-905e-d6753737c304",
   "metadata": {},
   "outputs": [
    {
     "name": "stdout",
     "output_type": "stream",
     "text": [
      "[1, 2, 3, 4, 5, 6]\n",
      "[-1, -2, -3, -4, -5]\n"
     ]
    }
   ],
   "source": [
    "lis=[1,2,3,4,5,6,-1,-2,-3,-4,-5,0]\n",
    "l3=[i for i in lis if i>0]\n",
    "l4=[i for i in lis if i<0]\n",
    "print(l3)\n",
    "print(l4)"
   ]
  },
  {
   "cell_type": "code",
   "execution_count": null,
   "id": "dfd3dd83-bbff-406e-b0b1-4a3826c4385c",
   "metadata": {},
   "outputs": [],
   "source": []
  }
 ],
 "metadata": {
  "kernelspec": {
   "display_name": "Python 3 (ipykernel)",
   "language": "python",
   "name": "python3"
  },
  "language_info": {
   "codemirror_mode": {
    "name": "ipython",
    "version": 3
   },
   "file_extension": ".py",
   "mimetype": "text/x-python",
   "name": "python",
   "nbconvert_exporter": "python",
   "pygments_lexer": "ipython3",
   "version": "3.10.8"
  }
 },
 "nbformat": 4,
 "nbformat_minor": 5
}
