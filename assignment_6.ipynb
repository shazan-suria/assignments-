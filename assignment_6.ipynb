{
 "cells": [
  {
   "cell_type": "code",
   "execution_count": 1,
   "id": "a30fa538-ca05-468a-b6d5-f064b557ff92",
   "metadata": {},
   "outputs": [
    {
     "data": {
      "text/plain": [
       "'This is my 6th assignment in data science master given by pwskills'"
      ]
     },
     "execution_count": 1,
     "metadata": {},
     "output_type": "execute_result"
    }
   ],
   "source": [
    "#ans_1\n",
    "#Classes are user-defined data types that act as the blueprint for\n",
    "#individual objects, attributes and methods.\n",
    "#Objects are instances of a class created with specifically defined data.\n",
    "#example:-\n",
    "class assi: #this is an class 'assi'\n",
    "    def get_assignment(self):\n",
    "        return 'This is my 6th assignment in data science master given by pwskills'\n",
    "obj_assi=assi() #this is an object of class assi\n",
    "obj_assi.get_assignment()"
   ]
  },
  {
   "cell_type": "code",
   "execution_count": 2,
   "id": "9132a1fe-c601-410f-9c4e-6374a6f23ab5",
   "metadata": {},
   "outputs": [],
   "source": [
    "#ans_2\n",
    "#Inheritance, Polymorphism, Encapsulation and Abstraction are the four pillars of OOPs."
   ]
  },
  {
   "cell_type": "code",
   "execution_count": 3,
   "id": "02780ed8-a235-4f4b-89ae-87557df7b4b9",
   "metadata": {},
   "outputs": [
    {
     "data": {
      "text/plain": [
       "'shazan'"
      ]
     },
     "execution_count": 3,
     "metadata": {},
     "output_type": "execute_result"
    }
   ],
   "source": [
    "#ans_3\n",
    "#__init__ method is called when an object is created from a class and it allows\n",
    "#the class to initialize the attributes of the class.\n",
    "#In short it is used to take inpute from object of a class.\n",
    "#It also known as constructor in object oriented terminology\n",
    "#example:-\n",
    "class ex_init: #class name= 'ex_init'\n",
    "    def __init__(self,name): #init to initialize \n",
    "        self.name=name\n",
    "    def get_name(self):\n",
    "        return self.name\n",
    "obj_ex_init=ex_init('shazan') #input/initialze through object\n",
    "obj_ex_init.get_name()"
   ]
  },
  {
   "cell_type": "code",
   "execution_count": 4,
   "id": "51b523ca-ffd7-42e8-9dd2-df5527b732ac",
   "metadata": {},
   "outputs": [],
   "source": [
    "#ans_4\n",
    "#self represents the instance of the class.\n",
    "#By using the \"self\" we can access the attributes and methods of the classin python.\n",
    "#It binds the attributes with the given arguments."
   ]
  },
  {
   "cell_type": "code",
   "execution_count": 5,
   "id": "306a21a5-a60b-4506-accc-bb819eaf0fd9",
   "metadata": {},
   "outputs": [
    {
     "name": "stdout",
     "output_type": "stream",
     "text": [
      "single inheritance:-\n",
      "Example of single inheritance\n"
     ]
    }
   ],
   "source": [
    "#ans_5\n",
    "#Inheritance allows us to define a class that inherits all the methods and\n",
    "#properties from another class.\n",
    "#Parent class is the class being inherited from, also called base class.\n",
    "#Child class is the class that inherits from another class, also called derived class.\n",
    "#Example:-\n",
    "#Single Inheritance\n",
    "class inhery:\n",
    "    def get_something(self):\n",
    "        return 'Example of single inheritance'\n",
    "class demo(inhery):\n",
    "    pass\n",
    "print('single inheritance:-')\n",
    "obj_demo=demo()\n",
    "print(obj_demo.get_something())"
   ]
  },
  {
   "cell_type": "code",
   "execution_count": 6,
   "id": "9b2f19ce-c591-4a12-abd0-ab2653a86f95",
   "metadata": {},
   "outputs": [
    {
     "name": "stdout",
     "output_type": "stream",
     "text": [
      "Multilevel Inheritance:-\n",
      "Example of single inheritance\n"
     ]
    }
   ],
   "source": [
    "#Multilevel Inheritance.\n",
    "class mul(demo):#taking demo class from single inheritance example\n",
    "    pass\n",
    "print('Multilevel Inheritance:-')\n",
    "obj_mul=mul()\n",
    "print(obj_mul.get_something())"
   ]
  },
  {
   "cell_type": "code",
   "execution_count": 7,
   "id": "fa0342df-d263-454b-8d8c-81284e1b254a",
   "metadata": {},
   "outputs": [
    {
     "name": "stdout",
     "output_type": "stream",
     "text": [
      "multiple inheritance:-\n"
     ]
    },
    {
     "data": {
      "text/plain": [
       "'Focus'"
      ]
     },
     "execution_count": 7,
     "metadata": {},
     "output_type": "execute_result"
    }
   ],
   "source": [
    "#multiple inheritance\n",
    "print(\"multiple inheritance:-\")\n",
    "class mom:\n",
    "    def get_inheretance_from_mom(self):\n",
    "        return 'Multitasking'\n",
    "class dad:\n",
    "    def get_inheritance_from_dad(self):\n",
    "        return 'Focus'\n",
    "class me(mom,dad):\n",
    "    pass\n",
    "obj_me=me()\n",
    "obj_me.get_inheritance_from_dad()"
   ]
  },
  {
   "cell_type": "code",
   "execution_count": 8,
   "id": "58ad6415-d75a-4536-ae37-95e3f7f3e58c",
   "metadata": {},
   "outputs": [
    {
     "name": "stdout",
     "output_type": "stream",
     "text": [
      "Hierarchical inheritance:-\n",
      "45000\n",
      "PW Skills\n"
     ]
    }
   ],
   "source": [
    "#hierarchical inheritance\n",
    "print('Hierarchical inheritance:-')\n",
    "class com_name:\n",
    "    def name(self):\n",
    "        return 'PW Skills'\n",
    "class tut(com_name):\n",
    "    def salary(self):\n",
    "        return 45000\n",
    "class support(com_name):\n",
    "    def salary(self):\n",
    "        return 40000\n",
    "tutor=tut()\n",
    "supp=support()\n",
    "print (tutor.salary())\n",
    "print(supp.name())\n"
   ]
  },
  {
   "cell_type": "code",
   "execution_count": 12,
   "id": "b2592ec2-0093-4491-8444-e19d810288e7",
   "metadata": {},
   "outputs": [
    {
     "name": "stdout",
     "output_type": "stream",
     "text": [
      "hybrid inharitance:-\n",
      "45000\n"
     ]
    }
   ],
   "source": [
    "print('hybrid inharitance:-') #combinarion of single inheritance and hierarchical inheritance\n",
    "class com_name:\n",
    "    def name(self):\n",
    "        return 'PW Skills'\n",
    "class tut(com_name):\n",
    "    def salary(self):\n",
    "        return 45000\n",
    "class support(com_name):\n",
    "    def salary(self):\n",
    "        return 40000\n",
    "class data_science(tut):\n",
    "    pass\n",
    "obj_dt_sci=data_science()\n",
    "print(obj_dt_sci.salary())"
   ]
  },
  {
   "cell_type": "code",
   "execution_count": null,
   "id": "4c9e2fbf-5f27-4d3d-a137-78a11d26325c",
   "metadata": {},
   "outputs": [],
   "source": []
  }
 ],
 "metadata": {
  "kernelspec": {
   "display_name": "Python 3 (ipykernel)",
   "language": "python",
   "name": "python3"
  },
  "language_info": {
   "codemirror_mode": {
    "name": "ipython",
    "version": 3
   },
   "file_extension": ".py",
   "mimetype": "text/x-python",
   "name": "python",
   "nbconvert_exporter": "python",
   "pygments_lexer": "ipython3",
   "version": "3.10.8"
  }
 },
 "nbformat": 4,
 "nbformat_minor": 5
}
