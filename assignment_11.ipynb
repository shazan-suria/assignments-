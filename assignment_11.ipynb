{
 "cells": [
  {
   "cell_type": "code",
   "execution_count": 1,
   "id": "bc1139ee-fc73-445f-bfb5-7903c5069410",
   "metadata": {},
   "outputs": [
    {
     "data": {
      "text/plain": [
       "'\\nopen() function is used to open a file.\\nthere are 6 modes in which we an open file which are : w(write),w+(read and write),r(read),r+(read,write),a(append),a+(append and read)\\nalso we have wb,rb,ab,wb+,rb+,ab+ for binary file.same use as normal file\\n'"
      ]
     },
     "execution_count": 1,
     "metadata": {},
     "output_type": "execute_result"
    }
   ],
   "source": [
    "# Q1. Which function is used to open a file? What are the different modes of opening a file? Explain each mode\n",
    "# of file opening.\n",
    "\n",
    "# ans 1\n",
    "'''\n",
    "open() function is used to open a file.\n",
    "there are 6 modes in which we an open file which are : w(write),w+(read and write),r(read),r+(read,write),a(append),a+(append and read)\n",
    "also we have wb,rb,ab,wb+,rb+,ab+ for binary file.same use as normal file\n",
    "'''"
   ]
  },
  {
   "cell_type": "code",
   "execution_count": 2,
   "id": "83769405-b279-42c8-b6ad-21cd15b3e4e9",
   "metadata": {},
   "outputs": [
    {
     "data": {
      "text/plain": [
       "'\\nclose() is use to close the file in pyton\\nclosing of file important as it help to free the memmory.\\n'"
      ]
     },
     "execution_count": 2,
     "metadata": {},
     "output_type": "execute_result"
    }
   ],
   "source": [
    "# Q2. Why close() function is used? Why is it important to close a file?\n",
    "# ans 2\n",
    "'''\n",
    "close() is use to close the file in pyton\n",
    "closing of file important as it help to free the memmory.\n",
    "'''"
   ]
  },
  {
   "cell_type": "code",
   "execution_count": 3,
   "id": "0719e90a-e069-4f16-8f6d-e3ae643d08ef",
   "metadata": {},
   "outputs": [
    {
     "name": "stdout",
     "output_type": "stream",
     "text": [
      "I want to become a Data Scientist.\n"
     ]
    }
   ],
   "source": [
    "# Q3. Write a python program to create a text file. Write ‘I want to become a Data Scientist’ in that file. Then\n",
    "# close the file. Open this file and read the content of the file.\n",
    "# ans 3\n",
    "f = open(\"Demo1.txt\",\"w\")\n",
    "f.write(\"I want to become a Data Scientist.\")\n",
    "f.close()\n",
    "with open(\"Demo1.txt\",\"r\") as f:\n",
    "    print(f.read())"
   ]
  },
  {
   "cell_type": "code",
   "execution_count": 4,
   "id": "001c79d4-a259-4601-b6e7-069abde32806",
   "metadata": {},
   "outputs": [],
   "source": [
    "# Q4. Explain the following with python code: read(), readline() and readlines().\n",
    "\n",
    "#ans 4\n",
    "# read() this function is use to read whole file in ones\n",
    "# readline() gives output as a singl line\n",
    "# readlines() gives output as multiple line\n",
    "# ex:- for read()\n",
    "f = open(\"Demo1.txt\",\"a\")\n",
    "f.write(\" lets complete the course\")\n",
    "f.close()"
   ]
  },
  {
   "cell_type": "code",
   "execution_count": 5,
   "id": "a0afda19-4b7e-4c11-b500-d78a8f1d9343",
   "metadata": {},
   "outputs": [
    {
     "name": "stdout",
     "output_type": "stream",
     "text": [
      "I want to become a Data Scientist. lets complete the course\n",
      "I want to become a Data Scientist. lets complete the course\n",
      "['I want to become a Data Scientist. lets complete the course']\n",
      "-----------------------------------------\n",
      "I want to become a Data Scientist. lets complete the course\n"
     ]
    }
   ],
   "source": [
    "f = open(\"Demo1.txt\",\"r\")\n",
    "print(f.read())\n",
    "f.seek(0)\n",
    "print(f.readline())\n",
    "f.seek(0)\n",
    "print(f.readlines())\n",
    "# or\n",
    "f.seek(0)\n",
    "print(\"-----------------------------------------\")\n",
    "l=f.readlines()\n",
    "for i in l:\n",
    "    print(i)"
   ]
  },
  {
   "cell_type": "code",
   "execution_count": 6,
   "id": "44025063-4ffb-4d61-89fb-618872c0f3d3",
   "metadata": {},
   "outputs": [
    {
     "data": {
      "text/plain": [
       "'\\nThe with statement in Python is used to wrap the execution of a block of code with methods defined by a context manager.\\nThe advantage of using with statement and open() together is that it ensures that the file is closed properly after its suite finishes,\\neven if an exception is raised while the suite is executing\\n'"
      ]
     },
     "execution_count": 6,
     "metadata": {},
     "output_type": "execute_result"
    }
   ],
   "source": [
    "# Q5. Explain why with statement is used with open(). What is the advantage of using with statement and\n",
    "# open() together?\n",
    "# ans 5\n",
    "'''\n",
    "The with statement in Python is used to wrap the execution of a block of code with methods defined by a context manager.\n",
    "The advantage of using with statement and open() together is that it ensures that the file is closed properly after its suite finishes,\n",
    "even if an exception is raised while the suite is executing\n",
    "'''"
   ]
  },
  {
   "cell_type": "code",
   "execution_count": 7,
   "id": "f7b3fe0f-bff3-4d70-b54f-9717a619abc1",
   "metadata": {},
   "outputs": [],
   "source": [
    "# Q6. Explain the write() and writelines() functions. Give a suitable example.\n",
    "# ans 6\n",
    "'''\n",
    "write() function is use to write a single string in a file.\n",
    "'''\n",
    "f = open('Demo2.txt', 'w')\n",
    "s = 'Hello world'\n",
    "f.write(s)\n",
    "f.close()\n",
    "'''\n",
    "writelines() function is use to write list of strings in a file.\n",
    "'''\n",
    "f = open('file3.txt', 'w')\n",
    "lst = ['Hello\\n', 'world\\n', 'Python\\n']\n",
    "f.writelines(lst)\n",
    "f.close()"
   ]
  },
  {
   "cell_type": "code",
   "execution_count": null,
   "id": "fbfe49cb-ce8b-4043-8222-406a2e6c1943",
   "metadata": {},
   "outputs": [],
   "source": []
  }
 ],
 "metadata": {
  "kernelspec": {
   "display_name": "Python 3 (ipykernel)",
   "language": "python",
   "name": "python3"
  },
  "language_info": {
   "codemirror_mode": {
    "name": "ipython",
    "version": 3
   },
   "file_extension": ".py",
   "mimetype": "text/x-python",
   "name": "python",
   "nbconvert_exporter": "python",
   "pygments_lexer": "ipython3",
   "version": "3.10.8"
  }
 },
 "nbformat": 4,
 "nbformat_minor": 5
}
