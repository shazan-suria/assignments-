{
 "cells": [
  {
   "cell_type": "code",
   "execution_count": 1,
   "id": "1aafa021-1498-40d8-8700-fa0d8e026e23",
   "metadata": {},
   "outputs": [
    {
     "data": {
      "text/plain": [
       "'\\nException is the sutuation which occurs during execution of program,\\nan program which is syntax wise currect but gives an error accrding to different situation\\nto over come this problem we use Exception.\\n\\ndifferencr:-\\nsyntax error is the error which occur due to the mistakes done by the programmer.ex:- like missing a colon(;)\\n\\nException are raised when the program is syntactically correct, but the code results in an error.ex:- trying to divide a number by zero.\\n'"
      ]
     },
     "execution_count": 1,
     "metadata": {},
     "output_type": "execute_result"
    }
   ],
   "source": [
    "# Q1. What is an Exception in python? Write the difference between Exceptions\n",
    "# and Syntax errors.\n",
    "\n",
    "# ans 1\n",
    "'''\n",
    "Exception is the sutuation which occurs during execution of program,\n",
    "an program which is syntax wise currect but gives an error accrding to different situation\n",
    "to over come this problem we use Exception.\n",
    "\n",
    "differencr:-\n",
    "syntax error is the error which occur due to the mistakes done by the programmer.ex:- like missing a colon(;)\n",
    "\n",
    "Exception are raised when the program is syntactically correct, but the code results in an error.ex:- trying to divide a number by zero.\n",
    "'''"
   ]
  },
  {
   "cell_type": "code",
   "execution_count": 2,
   "id": "5759132f-1e75-4e9a-9be2-ea75c1aed450",
   "metadata": {},
   "outputs": [
    {
     "ename": "ZeroDivisionError",
     "evalue": "division by zero",
     "output_type": "error",
     "traceback": [
      "\u001b[0;31m---------------------------------------------------------------------------\u001b[0m",
      "\u001b[0;31mZeroDivisionError\u001b[0m                         Traceback (most recent call last)",
      "Cell \u001b[0;32mIn[2], line 9\u001b[0m\n\u001b[1;32m      3\u001b[0m \u001b[38;5;124;03m'''\u001b[39;00m\n\u001b[1;32m      4\u001b[0m \u001b[38;5;124;03mIf exception is not handled then porgram will give an error.\u001b[39;00m\n\u001b[1;32m      5\u001b[0m \n\u001b[1;32m      6\u001b[0m \u001b[38;5;124;03mex:-\u001b[39;00m\n\u001b[1;32m      7\u001b[0m \u001b[38;5;124;03m'''\u001b[39;00m\n\u001b[1;32m      8\u001b[0m a \u001b[38;5;241m=\u001b[39m \u001b[38;5;241m10\u001b[39m\n\u001b[0;32m----> 9\u001b[0m \u001b[43ma\u001b[49m\u001b[38;5;241;43m/\u001b[39;49m\u001b[38;5;241;43m0\u001b[39;49m\n\u001b[1;32m     10\u001b[0m \u001b[38;5;28mprint\u001b[39m(a)\n\u001b[1;32m     11\u001b[0m \u001b[38;5;66;03m# here exception is not handled so it gives an error.\u001b[39;00m\n",
      "\u001b[0;31mZeroDivisionError\u001b[0m: division by zero"
     ]
    }
   ],
   "source": [
    "# Q2. what happens when an exception is not handled? Explain with example.\n",
    "# ans 2\n",
    "'''\n",
    "If exception is not handled then porgram will give an error.\n",
    "\n",
    "ex:-\n",
    "'''\n",
    "a = 10\n",
    "a/0\n",
    "print(a)\n",
    "# here exception is not handled so it gives an error."
   ]
  },
  {
   "cell_type": "code",
   "execution_count": 3,
   "id": "74adef55-6eea-484c-ba54-a698fb6d2395",
   "metadata": {},
   "outputs": [
    {
     "name": "stdout",
     "output_type": "stream",
     "text": [
      "Error : division by zero\n"
     ]
    }
   ],
   "source": [
    "# Q3. which python statement is used to catch and handle exceptions?\n",
    "# Explain with an example\n",
    "\n",
    "# ans 3:-\n",
    "'''\n",
    "In Python, the try/except statement is used to catch and handle exceptions. \n",
    "\n",
    "Ex:-\n",
    "'''\n",
    "try:\n",
    "    a/0\n",
    "except ZeroDivisionError as e:\n",
    "    print(\"Error :\",e)"
   ]
  },
  {
   "cell_type": "code",
   "execution_count": 5,
   "id": "0888013a-770b-44c8-a72f-aa125febd106",
   "metadata": {},
   "outputs": [
    {
     "name": "stdin",
     "output_type": "stream",
     "text": [
      "Enter your age -9\n"
     ]
    },
    {
     "name": "stdout",
     "output_type": "stream",
     "text": [
      "Age is invalid\n",
      "I will run in any situation\n"
     ]
    }
   ],
   "source": [
    "# Q4.Explain with an example:\n",
    "#     a.try and else\n",
    "#     b.finally\n",
    "#     c.raise\n",
    "\n",
    "'''\n",
    "try and else:-\n",
    "    try block is used when there is a possibility of getting an error.\n",
    "    else block will run if try block executes fully, so it is used for code\n",
    "    which should run only when code in try block code executes\n",
    "    \n",
    "finally:-\n",
    "    finally block is used when we want to execute the code in any situation.\n",
    "    \n",
    "raise:-\n",
    "    raise helps in creating custom exception.\n",
    "    \n",
    "Ex:-\n",
    "'''\n",
    "class valid_age(Exception):\n",
    "    def __init__(self,msg):\n",
    "        self.msg=msg\n",
    "def val_age(age):\n",
    "    if(age<0):\n",
    "        raise valid_age(\"Age is invalid\")\n",
    "    elif(ang>100):\n",
    "        raise valid_age(\"Age more than 100 is not allowed\")\n",
    "    else:\n",
    "        print(\"Propper age\")\n",
    "try:\n",
    "    age = int(input(\"Enter your age\"))\n",
    "    val_age(age)\n",
    "except valid_age as e:\n",
    "    print(e)\n",
    "else:\n",
    "    print(\"hello\")\n",
    "finally:\n",
    "    print(\"I will run in any situation\")"
   ]
  },
  {
   "cell_type": "code",
   "execution_count": 6,
   "id": "caaffc27-7e9e-4b87-a6c9-ac1f653ede51",
   "metadata": {},
   "outputs": [
    {
     "name": "stdin",
     "output_type": "stream",
     "text": [
      "Enter your age -89\n"
     ]
    },
    {
     "name": "stdout",
     "output_type": "stream",
     "text": [
      "Age is invalid\n"
     ]
    }
   ],
   "source": [
    "# Q5. What are custom Exceptions in python? Why do we need Custom Exceptions?\n",
    "# Explain with example.\n",
    "\n",
    "# ans 5\n",
    "'''\n",
    "Custom Exceptions are Exception which are made by the programmer.\n",
    "\n",
    "Custom Exceptions are used for situations which are not in python Exception class,\n",
    "they are specific to the project.\n",
    "\n",
    "Ex-\n",
    "'''\n",
    "class valid_age(Exception):\n",
    "    def __init__(self,msg):\n",
    "        self.msg=msg\n",
    "def val_age(age):\n",
    "    if(age<0):\n",
    "        raise valid_age(\"Age is invalid\")\n",
    "    elif(ang>100):\n",
    "        raise valid_age(\"Age more than 100 is not allowed\")\n",
    "    else:\n",
    "        print(\"Propper age\")\n",
    "try:\n",
    "    age = int(input(\"Enter your age\"))\n",
    "    val_age(age)\n",
    "except valid_age as e:\n",
    "    print(e)"
   ]
  },
  {
   "cell_type": "code",
   "execution_count": 7,
   "id": "3455e108-7ba2-44af-8ad7-8557dcea71ab",
   "metadata": {},
   "outputs": [
    {
     "name": "stdin",
     "output_type": "stream",
     "text": [
      "Enter your age 90\n"
     ]
    },
    {
     "ename": "NameError",
     "evalue": "name 'ang' is not defined",
     "output_type": "error",
     "traceback": [
      "\u001b[0;31m---------------------------------------------------------------------------\u001b[0m",
      "\u001b[0;31mNameError\u001b[0m                                 Traceback (most recent call last)",
      "Cell \u001b[0;32mIn[7], line 16\u001b[0m\n\u001b[1;32m     14\u001b[0m \u001b[38;5;28;01mtry\u001b[39;00m:\n\u001b[1;32m     15\u001b[0m     age \u001b[38;5;241m=\u001b[39m \u001b[38;5;28mint\u001b[39m(\u001b[38;5;28minput\u001b[39m(\u001b[38;5;124m\"\u001b[39m\u001b[38;5;124mEnter your age\u001b[39m\u001b[38;5;124m\"\u001b[39m))\n\u001b[0;32m---> 16\u001b[0m     \u001b[43mval_age\u001b[49m\u001b[43m(\u001b[49m\u001b[43mage\u001b[49m\u001b[43m)\u001b[49m\n\u001b[1;32m     17\u001b[0m \u001b[38;5;28;01mexcept\u001b[39;00m valid_age \u001b[38;5;28;01mas\u001b[39;00m e:\n\u001b[1;32m     18\u001b[0m     \u001b[38;5;28mprint\u001b[39m(e)\n",
      "Cell \u001b[0;32mIn[7], line 10\u001b[0m, in \u001b[0;36mval_age\u001b[0;34m(age)\u001b[0m\n\u001b[1;32m      8\u001b[0m \u001b[38;5;28;01mif\u001b[39;00m(age\u001b[38;5;241m<\u001b[39m\u001b[38;5;241m0\u001b[39m):\n\u001b[1;32m      9\u001b[0m     \u001b[38;5;28;01mraise\u001b[39;00m valid_age(\u001b[38;5;124m\"\u001b[39m\u001b[38;5;124mAge is invalid\u001b[39m\u001b[38;5;124m\"\u001b[39m)\n\u001b[0;32m---> 10\u001b[0m \u001b[38;5;28;01melif\u001b[39;00m(\u001b[43mang\u001b[49m\u001b[38;5;241m>\u001b[39m\u001b[38;5;241m100\u001b[39m):\n\u001b[1;32m     11\u001b[0m     \u001b[38;5;28;01mraise\u001b[39;00m valid_age(\u001b[38;5;124m\"\u001b[39m\u001b[38;5;124mAge more than 100 is not allowed\u001b[39m\u001b[38;5;124m\"\u001b[39m)\n\u001b[1;32m     12\u001b[0m \u001b[38;5;28;01melse\u001b[39;00m:\n",
      "\u001b[0;31mNameError\u001b[0m: name 'ang' is not defined"
     ]
    }
   ],
   "source": [
    "# Q6. Create a custom exception class. Use this to handle an exception.\n",
    "\n",
    "# ans 6:-\n",
    "class valid_age(Exception):\n",
    "    def __init__(self,msg):\n",
    "        self.msg=msg\n",
    "def val_age(age):\n",
    "    if(age<0):\n",
    "        raise valid_age(\"Age is invalid\")\n",
    "    elif(ang>100):\n",
    "        raise valid_age(\"Age more than 100 is not allowed\")\n",
    "    else:\n",
    "        print(\"Propper age\")\n",
    "try:\n",
    "    age = int(input(\"Enter your age\"))\n",
    "    val_age(age)\n",
    "except valid_age as e:\n",
    "    print(e)"
   ]
  },
  {
   "cell_type": "code",
   "execution_count": null,
   "id": "7037641a-82a7-4e3e-ac30-3d09d7ff52f7",
   "metadata": {},
   "outputs": [],
   "source": []
  }
 ],
 "metadata": {
  "kernelspec": {
   "display_name": "Python 3 (ipykernel)",
   "language": "python",
   "name": "python3"
  },
  "language_info": {
   "codemirror_mode": {
    "name": "ipython",
    "version": 3
   },
   "file_extension": ".py",
   "mimetype": "text/x-python",
   "name": "python",
   "nbconvert_exporter": "python",
   "pygments_lexer": "ipython3",
   "version": "3.10.8"
  }
 },
 "nbformat": 4,
 "nbformat_minor": 5
}
