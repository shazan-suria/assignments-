{
 "cells": [
  {
   "cell_type": "code",
   "execution_count": 39,
   "id": "f3bb044a-f851-469b-8ac3-70a780aea926",
   "metadata": {},
   "outputs": [
    {
     "data": {
      "text/plain": [
       "[('Virat Kohli', 24936),\n",
       " ('Jack Kallis', 25534),\n",
       " ('Ricky Ponting', 27483),\n",
       " ('Sachin Tendulkar', 34357)]"
      ]
     },
     "execution_count": 39,
     "metadata": {},
     "output_type": "execute_result"
    }
   ],
   "source": [
    "#ans_1\n",
    "l=[('Sachin Tendulkar', 34357), ('Ricky Ponting', 27483), ('Jack Kallis', 25534), ('Virat Kohli', 24936)]\n",
    "l.sort(key=lambda x : x[1])\n",
    "l"
   ]
  },
  {
   "cell_type": "code",
   "execution_count": 41,
   "id": "9e05a03d-2082-4c40-841c-1b2ea91f779c",
   "metadata": {},
   "outputs": [
    {
     "name": "stdout",
     "output_type": "stream",
     "text": [
      "[1, 4, 9, 16, 25, 36, 49, 64, 81, 100]\n"
     ]
    }
   ],
   "source": [
    "#ans_2\n",
    "l=[1, 2, 3, 4, 5, 6, 7, 8, 9, 10]\n",
    "l2=list(map(lambda x : x**2,l))\n",
    "print(l2)"
   ]
  },
  {
   "cell_type": "code",
   "execution_count": 43,
   "id": "3bbf2070-4ad6-4381-a7c3-ba08bf2f9471",
   "metadata": {},
   "outputs": [
    {
     "name": "stdout",
     "output_type": "stream",
     "text": [
      "('1', '2', '3', '4', '5', '6', '7', '8', '9', '10')\n"
     ]
    }
   ],
   "source": [
    "#ans_3\n",
    "l3=[1, 2, 3, 4, 5, 6, 7, 8, 9, 10]\n",
    "l3=tuple(map(lambda x:str(x),l3))\n",
    "print(l3)"
   ]
  },
  {
   "cell_type": "code",
   "execution_count": 64,
   "id": "819b7196-6281-4735-9e92-bfa60bddedfd",
   "metadata": {},
   "outputs": [
    {
     "data": {
      "text/plain": [
       "15511210043330985984000000"
      ]
     },
     "execution_count": 64,
     "metadata": {},
     "output_type": "execute_result"
    }
   ],
   "source": [
    "#ans_4\n",
    "l4=[]\n",
    "for i in range(1,26):\n",
    "    l4.append(i)\n",
    "from functools import reduce\n",
    "reduce(lambda x,y :x*y ,l4)"
   ]
  },
  {
   "cell_type": "code",
   "execution_count": 56,
   "id": "f5de3579-f01c-485a-9fd9-4529aa9ad0f3",
   "metadata": {},
   "outputs": [
    {
     "data": {
      "text/plain": [
       "[6, 60, 90, 120]"
      ]
     },
     "execution_count": 56,
     "metadata": {},
     "output_type": "execute_result"
    }
   ],
   "source": [
    "#ans_5\n",
    "l5=[2, 3, 6, 9, 27, 60, 90, 120, 55, 46]\n",
    "l6=list(filter(lambda x:x%2==0 and x%3==0,l5))\n",
    "l6"
   ]
  },
  {
   "cell_type": "code",
   "execution_count": 63,
   "id": "098c365e-2ef7-40ce-ab09-b3a2bbaa798f",
   "metadata": {},
   "outputs": [
    {
     "data": {
      "text/plain": [
       "['php', 'aba', 'radar', 'level']"
      ]
     },
     "execution_count": 63,
     "metadata": {},
     "output_type": "execute_result"
    }
   ],
   "source": [
    "#ans_6\n",
    "l7=['python', 'php', 'aba', 'radar', 'level']\n",
    "l8=list(filter(lambda x:x[::-1]==x,l7))\n",
    "l8"
   ]
  }
 ],
 "metadata": {
  "kernelspec": {
   "display_name": "Python 3 (ipykernel)",
   "language": "python",
   "name": "python3"
  },
  "language_info": {
   "codemirror_mode": {
    "name": "ipython",
    "version": 3
   },
   "file_extension": ".py",
   "mimetype": "text/x-python",
   "name": "python",
   "nbconvert_exporter": "python",
   "pygments_lexer": "ipython3",
   "version": "3.10.8"
  }
 },
 "nbformat": 4,
 "nbformat_minor": 5
}
