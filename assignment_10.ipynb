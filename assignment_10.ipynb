{
 "cells": [
  {
   "cell_type": "code",
   "execution_count": 1,
   "id": "08479acf-d5bd-44af-abf7-bfd138792868",
   "metadata": {},
   "outputs": [],
   "source": [
    "# Q-1\n",
    "# Create a vehicle class with an init method having instance variables as name_of_vehicle, max_speed\n",
    "# and average_of_vehicle.\n",
    "class vehicle:\n",
    "    \n",
    "    def __init__(self,name_of_vehicle,max_speed,average_of_vehicle):\n",
    "        self.name_of_vehicle = name_of_vehicle\n",
    "        self.max_speed = max_speed\n",
    "        self.average_of_vehicle = average_of_vehicle"
   ]
  },
  {
   "cell_type": "code",
   "execution_count": 5,
   "id": "5254eabf-651b-48e4-bb9e-836482334101",
   "metadata": {},
   "outputs": [],
   "source": [
    "# Q-2\n",
    "# Create a child class car from the vehicle class created in Que 1, which will inherit the vehicle class.\n",
    "# Create a method named seating_capacity which takes capacity as an argument and returns the name of\n",
    "# the vehicle and its seating capacity.\n",
    "class car(vehicle):\n",
    "    \n",
    "    def seating_capasity(self,capacity):\n",
    "        return self.name_of_vehicle,capacity"
   ]
  },
  {
   "cell_type": "code",
   "execution_count": 6,
   "id": "cdfcc60c-7f0a-4c66-a464-9fef8107b6c3",
   "metadata": {},
   "outputs": [],
   "source": [
    "obj_car=car('toyota',120,75)"
   ]
  },
  {
   "cell_type": "code",
   "execution_count": 7,
   "id": "17b325ee-e2ea-4267-9460-cdef70de4719",
   "metadata": {},
   "outputs": [
    {
     "data": {
      "text/plain": [
       "('toyota', 6)"
      ]
     },
     "execution_count": 7,
     "metadata": {},
     "output_type": "execute_result"
    }
   ],
   "source": [
    "obj_car.seating_capasity(6)"
   ]
  },
  {
   "cell_type": "code",
   "execution_count": 8,
   "id": "29440f07-8c3f-43f7-82ab-70c310ae1e3c",
   "metadata": {},
   "outputs": [],
   "source": [
    "# Q-3\n",
    "# What is multiple inheritance? Write a python code to demonstrate multiple inheritance.\n",
    "# class can be driven from more than one supperclass in python.This is called  multiple inheritance.\n",
    "# Example:-\n",
    "class f_class:\n",
    "    \n",
    "    def mod_f_class(self):\n",
    "        return 'This if father class'\n",
    "class m_class:\n",
    "    \n",
    "    def mod_m_class(self):\n",
    "        return 'This if mother class'\n",
    "class c_class(f_class,m_class):\n",
    "    pass"
   ]
  },
  {
   "cell_type": "code",
   "execution_count": 9,
   "id": "945de588-9f87-46e6-81e4-8cfd0a4ed3c4",
   "metadata": {},
   "outputs": [],
   "source": [
    "obj_of_c_class=c_class()"
   ]
  },
  {
   "cell_type": "code",
   "execution_count": 10,
   "id": "b2eefeab-4ac3-40ea-8449-a1953b65c6aa",
   "metadata": {},
   "outputs": [
    {
     "data": {
      "text/plain": [
       "'This if father class'"
      ]
     },
     "execution_count": 10,
     "metadata": {},
     "output_type": "execute_result"
    }
   ],
   "source": [
    "obj_of_c_class.mod_f_class()"
   ]
  },
  {
   "cell_type": "code",
   "execution_count": 11,
   "id": "8ccdffef-1c89-4b3c-bec7-d21ecfbbf8ed",
   "metadata": {},
   "outputs": [
    {
     "data": {
      "text/plain": [
       "'This if mother class'"
      ]
     },
     "execution_count": 11,
     "metadata": {},
     "output_type": "execute_result"
    }
   ],
   "source": [
    "obj_of_c_class.mod_m_class()"
   ]
  },
  {
   "cell_type": "code",
   "execution_count": 12,
   "id": "d39834c6-ba34-4bad-9833-9d912a3b9184",
   "metadata": {},
   "outputs": [],
   "source": [
    "# Q-4\n",
    "# What are getter and setter in python? Create a class and create a getter and a setter method in this\n",
    "# class.\n",
    "# When we dont want to give direct access of instance(s) or attribute(s) we hide that instance/attribute to give\n",
    "# access those instances/attributes we define some modules whith certain rules this modules/function are known as\n",
    "# setter or getter in python.\n",
    "# Example:-\n",
    "class ex:\n",
    "    \n",
    "    def __init__(self,value):\n",
    "        self.__value=value\n",
    "    \n",
    "    #gettet\n",
    "    def get_value(self):\n",
    "        return self.__value\n",
    "\n",
    "    def set_value(self,set_val):\n",
    "        \n",
    "        self.__value=0 if set_val<0 else set_val"
   ]
  },
  {
   "cell_type": "code",
   "execution_count": 13,
   "id": "094e992b-f579-4f40-b5c0-f3c2ab4de41e",
   "metadata": {},
   "outputs": [],
   "source": [
    "obj=ex(45)"
   ]
  },
  {
   "cell_type": "code",
   "execution_count": 14,
   "id": "069a4859-39ee-4d30-8f36-0bbbc4e955f1",
   "metadata": {},
   "outputs": [
    {
     "data": {
      "text/plain": [
       "45"
      ]
     },
     "execution_count": 14,
     "metadata": {},
     "output_type": "execute_result"
    }
   ],
   "source": [
    "obj.get_value()"
   ]
  },
  {
   "cell_type": "code",
   "execution_count": 15,
   "id": "c010eea6-5ba5-43f4-a6ae-8f36426852f6",
   "metadata": {},
   "outputs": [],
   "source": [
    "obj.set_value(67)"
   ]
  },
  {
   "cell_type": "code",
   "execution_count": 16,
   "id": "eed36557-5fba-42ff-8d31-fd6b37d9b65e",
   "metadata": {},
   "outputs": [
    {
     "data": {
      "text/plain": [
       "67"
      ]
     },
     "execution_count": 16,
     "metadata": {},
     "output_type": "execute_result"
    }
   ],
   "source": [
    "obj.get_value()"
   ]
  },
  {
   "cell_type": "code",
   "execution_count": 19,
   "id": "f2aa2b51-cf16-4b7a-9f76-2f823b78ff50",
   "metadata": {},
   "outputs": [],
   "source": [
    "# Q-5\n",
    "# What is method overriding in python? Write a python code to demonstrate method overriding.\n",
    "# Method overriding is an ability of any object-oriented programming language that allows a subclass or child class\n",
    "# to provide a specific implementation of a method that is already provided by one of its super-classes or parent classes.\n",
    "# Example:-\n",
    "class class_1:\n",
    "    \n",
    "    def sample_class():\n",
    "        return 'This is sample class'"
   ]
  },
  {
   "cell_type": "code",
   "execution_count": 20,
   "id": "83ae4a45-74be-4eb5-a818-5d420a413f99",
   "metadata": {},
   "outputs": [],
   "source": [
    "class class_2(class_1):\n",
    "    \n",
    "    def sample_class():\n",
    "        return 'this is sub sample class'"
   ]
  },
  {
   "cell_type": "code",
   "execution_count": 21,
   "id": "d4757fe4-9a7d-46b4-bc84-b0de0464fcf7",
   "metadata": {},
   "outputs": [],
   "source": [
    "obj_class1=class_1()"
   ]
  },
  {
   "cell_type": "code",
   "execution_count": 22,
   "id": "eda78211-0608-4d8d-a6a6-6bfd1b0c658e",
   "metadata": {},
   "outputs": [],
   "source": [
    "obj_class2=class_2()"
   ]
  },
  {
   "cell_type": "code",
   "execution_count": null,
   "id": "f672dcdc-211e-4134-a6c8-0166d78a27e2",
   "metadata": {},
   "outputs": [],
   "source": [
    "obj"
   ]
  }
 ],
 "metadata": {
  "kernelspec": {
   "display_name": "Python 3 (ipykernel)",
   "language": "python",
   "name": "python3"
  },
  "language_info": {
   "codemirror_mode": {
    "name": "ipython",
    "version": 3
   },
   "file_extension": ".py",
   "mimetype": "text/x-python",
   "name": "python",
   "nbconvert_exporter": "python",
   "pygments_lexer": "ipython3",
   "version": "3.10.8"
  }
 },
 "nbformat": 4,
 "nbformat_minor": 5
}
