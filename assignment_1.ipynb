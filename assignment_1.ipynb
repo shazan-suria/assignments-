{
 "cells": [
  {
   "cell_type": "code",
   "execution_count": null,
   "id": "9a230093-bb6d-4446-830f-706cc50ea6c5",
   "metadata": {},
   "outputs": [],
   "source": [
    "'''ans_1:Guido van rossum.\n",
    "   ans_2:Python support multiple types of programming which are Object-oriented programming and structured programming etc.\n",
    "   ans_3:Yes python is case sensitive in dealing with identifiers.\n",
    "   ans_4:The correct extensio of python file is .py.\n",
    "   ans_5:Python code is interpreted.\n",
    "   ans_6:function,module,etc.\n",
    "   ans_7:# is used to give a single line comment.\n",
    "   ans_8:sys.version is use to find the version of python.\n",
    "   ans_9:lambda is used to create runtimr=e function.\n",
    "   ans_10:pip=preferred installer program.\n",
    "   ans_11:len,del,str,list,etc are some built in functions in pythin.\n",
    "   ans_12:The maximum possible length of an identifier is 79 characters.\n",
    "   ans_13:python is easy to use,it is an expressive language,it is an interpreted language,it is free and open source,it is an cross-platform language and its varity of usage/applications like:>Scripting>web application >geme development etc.\n",
    "   ans_14.In Python memory allocation and deallocation method is automatic as the Python developers created a garbage collector for Python so that the user does not have to do manual garbage collection.\n",
    "   ans_15:1>Open the official Python website in your web browser. 2>Run the Executable Installer. Once the installer is downloaded, run the Python installer. 3>Add Python to environmental variables.\n",
    "   ans_16:In python indentation is very important.\n"
   ]
  }
 ],
 "metadata": {
  "kernelspec": {
   "display_name": "Python 3 (ipykernel)",
   "language": "python",
   "name": "python3"
  },
  "language_info": {
   "codemirror_mode": {
    "name": "ipython",
    "version": 3
   },
   "file_extension": ".py",
   "mimetype": "text/x-python",
   "name": "python",
   "nbconvert_exporter": "python",
   "pygments_lexer": "ipython3",
   "version": "3.10.8"
  }
 },
 "nbformat": 4,
 "nbformat_minor": 5
}
