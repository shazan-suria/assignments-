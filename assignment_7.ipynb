{
 "cells": [
  {
   "cell_type": "code",
   "execution_count": 1,
   "id": "ff588609-cbdd-44e2-86bd-16e0aea8f00b",
   "metadata": {},
   "outputs": [
    {
     "name": "stdout",
     "output_type": "stream",
     "text": [
      "priduct of all the numbers is : 4134711838987085478833841242112000\n"
     ]
    }
   ],
   "source": [
    "#ans_1\n",
    "list1 = [1,2,3,4, [44,55,66, True], False, (34,56,78,89,34), {1,2,3,3,2,1}, {1:34, \"key2\": [55, 67, 78, 89], 4: (45,\n",
    "22, 61, 34)}, [56, 'data science'], 'Machine Learning']\n",
    "def flat_func(given_collection):\n",
    "    flat_list=[]\n",
    "    for each_element in given_collection:\n",
    "        if type(each_element)==int or type(each_element)==float:\n",
    "            flat_list.append(each_element)\n",
    "        elif type(each_element)==list or type(each_element)==set or type(each_element)==tuple:\n",
    "            flat_list.extend(flat_func(each_element))\n",
    "        elif type(each_element)==dict:\n",
    "            for each_nested_element in each_element.keys():\n",
    "                if type(each_nested_element)==int or type(each_nested_element)==float:\n",
    "                    flat_list.append(each_nested_element)\n",
    "            for each_nested_element in each_element.values():\n",
    "                if type(each_nested_element)==int or type(each_nested_element)==float:\n",
    "                    flat_list.append(each_nested_element)\n",
    "                elif type(each_nested_element)==list or type(each_nested_element)==tuple or type(each_nested_element)==set:\n",
    "                    flat_list.extend(flat_func(each_nested_element))\n",
    "\n",
    "    return flat_list\n",
    "flat_list=flat_func(list1)\n",
    "prod=1\n",
    "for i in flat_list:\n",
    "    prod*=i\n",
    "print('priduct of all the numbers is :',prod)"
   ]
  },
  {
   "cell_type": "code",
   "execution_count": 23,
   "id": "180c57ca-af3b-4cf8-b827-b624b872ea04",
   "metadata": {},
   "outputs": [
    {
     "name": "stdout",
     "output_type": "stream",
     "text": [
      "Original message: I want to become a Data Scientist.\n",
      "Encrypted message: r$dzmg$gl$yvxlnv$z$wzgz$hxrvmgrhg.\n"
     ]
    }
   ],
   "source": [
    "# ans_2\n",
    "def encrypt_message(message):\n",
    "    message = message.lower()\n",
    "    encrypted_message = \"\"\n",
    "    for char in message:\n",
    "        if char == \" \":\n",
    "            encrypted_message += \"$\"\n",
    "        elif char.isalpha():\n",
    "            encrypted_message += chr(122 - ord(char) + 97)\n",
    "        else:\n",
    "            encrypted_message += char\n",
    "    return encrypted_message\n",
    "\n",
    "sample_message = \"I want to become a Data Scientist.\"\n",
    "print(\"Original message:\", sample_message)\n",
    "print(\"Encrypted message:\", encrypt_message(sample_message))"
   ]
  },
  {
   "cell_type": "code",
   "execution_count": null,
   "id": "29376a61-4332-4730-bf7b-a5ceffd7fa7e",
   "metadata": {},
   "outputs": [],
   "source": []
  }
 ],
 "metadata": {
  "kernelspec": {
   "display_name": "Python 3 (ipykernel)",
   "language": "python",
   "name": "python3"
  },
  "language_info": {
   "codemirror_mode": {
    "name": "ipython",
    "version": 3
   },
   "file_extension": ".py",
   "mimetype": "text/x-python",
   "name": "python",
   "nbconvert_exporter": "python",
   "pygments_lexer": "ipython3",
   "version": "3.10.8"
  }
 },
 "nbformat": 4,
 "nbformat_minor": 5
}
