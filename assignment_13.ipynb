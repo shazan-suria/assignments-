{
 "cells": [
  {
   "cell_type": "code",
   "execution_count": 1,
   "id": "9af498f8-66c3-412f-8e85-b754771b3171",
   "metadata": {},
   "outputs": [
    {
     "data": {
      "text/plain": [
       "'\\nThe Exception class is the base class for all built-in exceptions in Python.\\nBy inheriting from this class, our custom exception will automatically gain all the properties and behaviors\\nof a standard Python exception.\\n'"
      ]
     },
     "execution_count": 1,
     "metadata": {},
     "output_type": "execute_result"
    }
   ],
   "source": [
    "# Q1. Explain why we have to use the Exception class while creating a Custom Exception.\n",
    "\n",
    "# ans 1:-\n",
    "'''\n",
    "The Exception class is the base class for all built-in exceptions in Python.\n",
    "By inheriting from this class, our custom exception will automatically gain all the properties and behaviors\n",
    "of a standard Python exception.\n",
    "'''"
   ]
  },
  {
   "cell_type": "code",
   "execution_count": 2,
   "id": "e74fd867-5896-41e4-bd24-3c185d9ae3b0",
   "metadata": {},
   "outputs": [
    {
     "name": "stdout",
     "output_type": "stream",
     "text": [
      "Error :  division by zero\n",
      "Type Error: can't add int and str\n"
     ]
    }
   ],
   "source": [
    "# Q2. Write a python program to print Python Exception Hierarchy.\n",
    "\n",
    "# ans 2:-\n",
    "a = 10\n",
    "\n",
    "try:\n",
    "    a/0\n",
    "except ZeroDivisionError as e:\n",
    "    print(\"Error : \",e)\n",
    "    try:\n",
    "        a+\"abc\"\n",
    "    except TypeError:\n",
    "        print(\"Type Error: can't add int and str\")"
   ]
  },
  {
   "cell_type": "code",
   "execution_count": 31,
   "id": "39c5a426-9614-47f7-9c80-ee978f8e98c6",
   "metadata": {},
   "outputs": [
    {
     "name": "stdout",
     "output_type": "stream",
     "text": [
      "Caught a ZeroDivisionError\n",
      "Caught an OverflowError: int too large to convert to float\n"
     ]
    }
   ],
   "source": [
    "# Q3. What errors are defined in the ArithmeticError class? Explain any two with an example.\n",
    "\n",
    "# ans 3:-\n",
    "'''\n",
    "There are about 3 errors defined in the ArithmeticError class which are:-\n",
    "1. ZeroDivisionError\n",
    "2. OverflowError\n",
    "3. FloatingPointError\n",
    "\n",
    "Explaination:-\n",
    "1. ZeroDivisionError:- Raised when the second argument passed to the division or modulo operator is zero.\n",
    "2. OverflowError:- Raised when a mathematical operation exceeds the maximum limit of the data type2.\n",
    "\n",
    "Ex:-\n",
    "'''\n",
    "try:\n",
    "    x = 1 / 0 \n",
    "except ZeroDivisionError:\n",
    "    print(\"Caught a ZeroDivisionError\")\n",
    "try:\n",
    "    a = 10 ** 100000\n",
    "    b = float(a)  # This could raise an OverflowError\n",
    "    print(b)\n",
    "except OverflowError as e:\n",
    "    print(\"Caught an OverflowError:\", e)\n"
   ]
  },
  {
   "cell_type": "code",
   "execution_count": 32,
   "id": "d015eb97-7cb2-4223-a0f9-2ef9d719739d",
   "metadata": {},
   "outputs": [
    {
     "name": "stdout",
     "output_type": "stream",
     "text": [
      "Caught a KeyError\n",
      "Caught an IndexError\n"
     ]
    }
   ],
   "source": [
    "# Q4. Why LookupError class is used? Explain with an example KeyError and IndexError.\n",
    "\n",
    "# ans 4:-\n",
    "\n",
    "'''\n",
    "In Python, LookupError is a built-in exception that serves as the base class for exceptions that are raised when a key or index used on a mapping or sequence is invalid.\n",
    "KeyError: Raised when a dictionary key is not found in the set of existing keys.\n",
    "IndexError: Raised when a sequence subscript (index) is out of range.\n",
    "\n",
    "Ex:-\n",
    "'''\n",
    "try:\n",
    "    my_dict = {'apple': 'fruit', 'carrot': 'vegetable'}\n",
    "    print(my_dict['banana'])\n",
    "except KeyError:\n",
    "    print(\"Caught a KeyError\")\n",
    "try:\n",
    "    my_list = [1, 2, 3]\n",
    "    print(my_list[3])\n",
    "except IndexError:\n",
    "    print(\"Caught an IndexError\")"
   ]
  },
  {
   "cell_type": "code",
   "execution_count": 34,
   "id": "36c07faf-236f-416b-9b5c-4798e28cb674",
   "metadata": {},
   "outputs": [
    {
     "name": "stdout",
     "output_type": "stream",
     "text": [
      "Caught a ModuleNotFoundError\n"
     ]
    }
   ],
   "source": [
    "# Q5. Explain ImportError. What is ModuleNotFoundError?\n",
    "\n",
    "# ans 5:-\n",
    "'''\n",
    "ImportError is a built-in exception that is raised when the import statement has trouble in successfully importing a specified module. This can happen due to several reasons:\n",
    "\n",
    "The module you’re trying to import doesn’t exist.\n",
    "There’s a faulty installation of an external library.\n",
    "The path to the module is incorrect.\n",
    "\n",
    "\n",
    "ModuleNotFoundError is a subclass of ImportError.\n",
    "It’s raised when you try to import a module that Python can’t find.\n",
    "This error typically occurs when the specified module doesn’t exist or the module is not installed in your Python environment\n",
    "\n",
    "\n",
    "Ex:-\n",
    "'''\n",
    "try:\n",
    "    import non_existent_module \n",
    "except ModuleNotFoundError:\n",
    "    print(\"Caught a ModuleNotFoundError\")\n"
   ]
  },
  {
   "cell_type": "code",
   "execution_count": null,
   "id": "472156da-b316-4f89-ad8e-22254c42c400",
   "metadata": {},
   "outputs": [],
   "source": [
    "# Q6. List down some best practices for exception handling in python.\n",
    "\n",
    "# ans 6:-\n",
    "'''\n",
    "1. Keep try blocks small and focused\n",
    "2. Use the finally clause for clean-up actions\n",
    "3. Print exception details in except blocks for debugging\n",
    "4. Catch specific exceptions\n",
    "'''"
   ]
  }
 ],
 "metadata": {
  "kernelspec": {
   "display_name": "Python 3 (ipykernel)",
   "language": "python",
   "name": "python3"
  },
  "language_info": {
   "codemirror_mode": {
    "name": "ipython",
    "version": 3
   },
   "file_extension": ".py",
   "mimetype": "text/x-python",
   "name": "python",
   "nbconvert_exporter": "python",
   "pygments_lexer": "ipython3",
   "version": "3.10.8"
  }
 },
 "nbformat": 4,
 "nbformat_minor": 5
}
