{
 "cells": [
  {
   "cell_type": "code",
   "execution_count": 1,
   "id": "4050dab4-815e-4868-af55-258d08e39358",
   "metadata": {},
   "outputs": [],
   "source": [
    "#ans_1\n",
    "'''def keyword is used to create a function'''\n",
    "def odd_list():\n",
    "    return [i for i in range(1,26) if i%2!=0]\n",
    "    "
   ]
  },
  {
   "cell_type": "code",
   "execution_count": 2,
   "id": "6e81f685-77cc-4b47-8767-4a4c311a6bfb",
   "metadata": {},
   "outputs": [
    {
     "data": {
      "text/plain": [
       "[1, 3, 5, 7, 9, 11, 13, 15, 17, 19, 21, 23, 25]"
      ]
     },
     "execution_count": 2,
     "metadata": {},
     "output_type": "execute_result"
    }
   ],
   "source": [
    "odd_list()"
   ]
  },
  {
   "cell_type": "code",
   "execution_count": 3,
   "id": "21897854-a5d0-4747-a329-09e1b41a989b",
   "metadata": {},
   "outputs": [],
   "source": [
    "#ans_2\n",
    "# *args and **kwargs are used when we want multiple numbers of input\n",
    "# **kwargs is use to take key value pair for n number of time for dictionary\n",
    "def av(*a):\n",
    "    su=0\n",
    "    for i in a:\n",
    "        su+=i\n",
    "    return(su/len(a))\n",
    "def data_marks(**kw):\n",
    "    return kw"
   ]
  },
  {
   "cell_type": "code",
   "execution_count": 4,
   "id": "143e6091-5317-4492-92b0-19b3e2803d61",
   "metadata": {},
   "outputs": [
    {
     "data": {
      "text/plain": [
       "3.0"
      ]
     },
     "execution_count": 4,
     "metadata": {},
     "output_type": "execute_result"
    }
   ],
   "source": [
    "av(1,2,3,4,5)"
   ]
  },
  {
   "cell_type": "code",
   "execution_count": 5,
   "id": "fc9772a2-c6f8-4260-be44-0b530c8663c0",
   "metadata": {},
   "outputs": [
    {
     "data": {
      "text/plain": [
       "{'shazan': 90, 'uday': 95}"
      ]
     },
     "execution_count": 5,
     "metadata": {},
     "output_type": "execute_result"
    }
   ],
   "source": [
    "data_marks(shazan=90,uday=95)"
   ]
  },
  {
   "cell_type": "code",
   "execution_count": 6,
   "id": "4bf71249-0a44-4549-9cde-f04bc90eb700",
   "metadata": {},
   "outputs": [
    {
     "data": {
      "text/plain": [
       "[2, 4, 6, 8, 10]"
      ]
     },
     "execution_count": 6,
     "metadata": {},
     "output_type": "execute_result"
    }
   ],
   "source": [
    "#ans_3\n",
    "#Iterator in Python is an object that is used to iterate over\n",
    "#iterable objects like lists, tuples, dicts, and sets.\n",
    "# The iterator object is initialized using the iter() method\n",
    "l=[2,4,6,8,10,12,14,16,18,20]\n",
    "l1=iter(l)\n",
    "[next(l1) for i in range(5)]"
   ]
  },
  {
   "cell_type": "code",
   "execution_count": 7,
   "id": "ae4212f4-143e-4827-a174-bcae35388800",
   "metadata": {},
   "outputs": [],
   "source": [
    "#ans_4\n",
    "#Python Generator functions allow you to declare a function that behaves\n",
    "#likes an iterator, allowing programmers to make an iterator in a fast, easy, and clean way.\n",
    "#yield keyword is used to create a generator function.And also it is  memory efficient.\n",
    "#Range() function is an example of generator function"
   ]
  },
  {
   "cell_type": "code",
   "execution_count": 8,
   "id": "e8f568be-8a7f-45b1-b1e6-f90916f3cbab",
   "metadata": {},
   "outputs": [
    {
     "name": "stdout",
     "output_type": "stream",
     "text": [
      "2\n",
      "3\n",
      "5\n",
      "7\n",
      "11\n",
      "13\n",
      "17\n",
      "19\n",
      "23\n",
      "29\n",
      "31\n",
      "37\n",
      "41\n",
      "43\n",
      "47\n",
      "53\n",
      "59\n",
      "61\n",
      "67\n",
      "71\n"
     ]
    }
   ],
   "source": [
    "#ans_5\n",
    "def prime():\n",
    "    for i in range(2,1001):\n",
    "        ch=0\n",
    "        for j in range(2,i):\n",
    "            if(i%j==0):\n",
    "                ch=1\n",
    "                break\n",
    "        if(ch==0):\n",
    "            yield(i)\n",
    "n_prime=prime()\n",
    "for i in range(20):\n",
    "    print(next(n_prime))"
   ]
  },
  {
   "cell_type": "code",
   "execution_count": 9,
   "id": "984c80d1-f13b-4874-8b54-50b2ca31ed20",
   "metadata": {},
   "outputs": [
    {
     "name": "stdout",
     "output_type": "stream",
     "text": [
      "0\n",
      "1\n",
      "1\n",
      "2\n",
      "3\n",
      "5\n",
      "8\n",
      "13\n",
      "21\n",
      "34\n"
     ]
    }
   ],
   "source": [
    "#ans_6:Write a python program to print the first 10 Fibonacci numbers using a while loop.\n",
    "a,b=0,1\n",
    "i=0\n",
    "while i<10:\n",
    "    print(a)\n",
    "    a,b=b,a+b\n",
    "    i+=1"
   ]
  },
  {
   "cell_type": "code",
   "execution_count": 10,
   "id": "992bc7b5-625c-46b2-94fd-bc0b0a0e8b9f",
   "metadata": {},
   "outputs": [
    {
     "data": {
      "text/plain": [
       "['p', 'w', 's', 'k', 'i', 'l', 'l', 's']"
      ]
     },
     "execution_count": 10,
     "metadata": {},
     "output_type": "execute_result"
    }
   ],
   "source": [
    "#ans_7\n",
    "s='pwskills'\n",
    "[i for i in s]"
   ]
  },
  {
   "cell_type": "code",
   "execution_count": 21,
   "id": "c870c46c-9fa6-499c-8366-4feb99ba2f7b",
   "metadata": {},
   "outputs": [
    {
     "name": "stdin",
     "output_type": "stream",
     "text": [
      "Enter the number to check that number is palindrome or not 1\n"
     ]
    },
    {
     "name": "stdout",
     "output_type": "stream",
     "text": [
      "It is an palindrome\n"
     ]
    }
   ],
   "source": [
    "#ans_8\n",
    "#ans_8\n",
    "n=int(input(\"Enter the number to check that number is palindrome or not\"))\n",
    "or_n=n\n",
    "n2=0\n",
    "c=1\n",
    "while n>0:\n",
    "  \n",
    "    a=n%10\n",
    "    n2=n2+(c*a)\n",
    "    c*=10\n",
    "    n=n//10\n",
    "\n",
    "if(n2==or_n):\n",
    "    print(\"It is an palindrome\")\n",
    "else:\n",
    "    print(\"It is not an palindrome\")"
   ]
  },
  {
   "cell_type": "code",
   "execution_count": 30,
   "id": "3547a9b8-7cf1-41b7-9a16-4110d22df9dd",
   "metadata": {},
   "outputs": [
    {
     "name": "stdout",
     "output_type": "stream",
     "text": [
      "[1, 3, 5, 7, 9, 11, 13, 15, 17, 19, 21, 23, 25, 27, 29, 31, 33, 35, 37, 39, 41, 43, 45, 47, 49, 51, 53, 55, 57, 59, 61, 63, 65, 67, 69, 71, 73, 75, 77, 79, 81, 83, 85, 87, 89, 91, 93, 95, 97, 99]\n"
     ]
    }
   ],
   "source": [
    "#ans_9\n",
    "l=[i for i in range(1,101)]\n",
    "l2=[i for i in range(1,101,2)]\n",
    "print(l2)"
   ]
  },
  {
   "cell_type": "code",
   "execution_count": null,
   "id": "8ca93083-0956-4fa1-9b6c-cfa8fe1f630e",
   "metadata": {},
   "outputs": [],
   "source": []
  }
 ],
 "metadata": {
  "kernelspec": {
   "display_name": "Python 3 (ipykernel)",
   "language": "python",
   "name": "python3"
  },
  "language_info": {
   "codemirror_mode": {
    "name": "ipython",
    "version": 3
   },
   "file_extension": ".py",
   "mimetype": "text/x-python",
   "name": "python",
   "nbconvert_exporter": "python",
   "pygments_lexer": "ipython3",
   "version": "3.10.8"
  }
 },
 "nbformat": 4,
 "nbformat_minor": 5
}
