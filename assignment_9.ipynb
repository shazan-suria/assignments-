{
 "cells": [
  {
   "cell_type": "code",
   "execution_count": 5,
   "id": "94fe3493-a257-4d0f-87ed-fe499f097dd9",
   "metadata": {},
   "outputs": [
    {
     "name": "stdout",
     "output_type": "stream",
     "text": [
      "Tiger lives under trees\n",
      "Alligator lives by water\n",
      "Bear lives in a cave\n"
     ]
    }
   ],
   "source": [
    "# Q-1\n",
    "# What is Abstraction in OOPS? Explain with an example.\n",
    "#ans_1\n",
    "# Abstraction in python is defined as a process of handling complexity\n",
    "# by hiding unnecessary information from the user. \n",
    "# An abstract class can be considered as a blueprint for other classes.\n",
    "# An abstract method is a method that has a declaration but does not have an implementation.\n",
    "#Example:-\n",
    "from abc import ABC, abstractmethod#module used for creating Abstract Base Classes\n",
    "\n",
    "#creating abstract class\n",
    "class Jungle(ABC):\n",
    "    #abstract method\n",
    "    @abstractmethod\n",
    "    def lives_in(self):\n",
    "        pass\n",
    "\n",
    "#creating child classes\n",
    "class Tiger(Jungle):\n",
    "    #defining the body of abstract method of the abstract class\n",
    "    def  lives_in(self):\n",
    "        return 'Tiger lives under trees'\n",
    "    \n",
    "class Alligator(Jungle):\n",
    "    def lives_in(self):\n",
    "        return 'Alligator lives by water'\n",
    "\n",
    "class Bear(Jungle):\n",
    "    def lives_in(self):\n",
    "        return 'Bear lives in a cave'\n",
    "tiger_obj = Tiger()\n",
    "alligator_obj = Alligator()\n",
    "bear_obj = Bear()\n",
    "\n",
    "print(tiger_obj.lives_in())\n",
    "print(alligator_obj.lives_in())\n",
    "print(bear_obj.lives_in())"
   ]
  },
  {
   "cell_type": "code",
   "execution_count": 6,
   "id": "7994bb2b-514f-4efc-a909-88be9f6edab7",
   "metadata": {},
   "outputs": [
    {
     "name": "stdout",
     "output_type": "stream",
     "text": [
      "Tiger lives under trees\n",
      "Alligator lives by water\n",
      "Bear lives in a cave\n"
     ]
    }
   ],
   "source": [
    "# Q-2\n",
    "# Differentiate between Abastraction and Encapsulation. Explain with an example\n",
    "#ans_2\n",
    "# Abstraction\n",
    "# Abstraction in python is defined as a process of handling complexity\n",
    "# by hiding unnecessary information from the user.\n",
    "# An abstract class can be considered as a blueprint for other classes.\n",
    "# An abstract method is a method that has a declaration but does not have an implementation.\n",
    "#Example:-\n",
    "from abc import ABC, abstractmethod#module used for creating Abstract Base Classes\n",
    "\n",
    "#creating abstract class\n",
    "class Jungle(ABC):\n",
    "    #abstract method\n",
    "    @abstractmethod\n",
    "    def lives_in(self):\n",
    "        pass\n",
    "\n",
    "#creating child classes\n",
    "class Tiger(Jungle):\n",
    "    #defining the body of abstract method of the abstract class\n",
    "    def  lives_in(self):\n",
    "        return 'Tiger lives under trees'\n",
    "    \n",
    "class Alligator(Jungle):\n",
    "    def lives_in(self):\n",
    "        return 'Alligator lives by water'\n",
    "\n",
    "class Bear(Jungle):\n",
    "    def lives_in(self):\n",
    "        return 'Bear lives in a cave'\n",
    "tiger_obj = Tiger()\n",
    "alligator_obj = Alligator()\n",
    "bear_obj = Bear()\n",
    "\n",
    "print(tiger_obj.lives_in())\n",
    "print(alligator_obj.lives_in())\n",
    "print(bear_obj.lives_in())\n"
   ]
  },
  {
   "cell_type": "code",
   "execution_count": 7,
   "id": "fa99a1d6-6094-48d1-8855-e2b4784b3a76",
   "metadata": {},
   "outputs": [
    {
     "data": {
      "text/plain": [
       "10000"
      ]
     },
     "execution_count": 7,
     "metadata": {},
     "output_type": "execute_result"
    }
   ],
   "source": [
    "# Encapsulation\n",
    "# In encapsulation, the variables of a class will be hidden from other classes,\n",
    "# and can be accessed only through the methods of their current class.\n",
    "# Example:-\n",
    "class bank_account:\n",
    "    def __init__(self, balance):\n",
    "        self.__balance = balance\n",
    "        \n",
    "    def deposit(self, amount):\n",
    "        self.__balance = self.__balance+amount\n",
    "        \n",
    "    def withdraw(self, amount):\n",
    "        if self.__balance >=amount:\n",
    "            self.__balance = self.__balance-amount\n",
    "            return (\"Withdrawal successful\")\n",
    "        else:\n",
    "            print(\"Not enough balance in account\")\n",
    "            \n",
    "    def get_balance(self):\n",
    "        return self.__balance\n",
    "my_account = bank_account(10000)\n",
    "my_account.get_balance()"
   ]
  },
  {
   "cell_type": "code",
   "execution_count": 3,
   "id": "b70c9252-b8c2-42c9-a50e-6ac07cc56ab8",
   "metadata": {},
   "outputs": [],
   "source": [
    "# Q-3\n",
    "# What is abc module in Python? Why is it used?\n",
    "# ans_3\n",
    "# The 'abc' module in Python library provides the infrastructure for defining custom abstract base classes.\n",
    "# 'abc' works by marking methods of the base class as abstract. This is done by @absttractmethod decorator.\n",
    "# A developer can use hasattr or isinstance methods to check whether the input conforms to a particular identity. \n",
    "# But sometimes it is inconvenient to use those methods to check a myriad of different properties and methods.\n",
    "# As a solution to this inconvenience, Python introduced a concept called abstract base class (abc)."
   ]
  },
  {
   "cell_type": "code",
   "execution_count": 4,
   "id": "b7b8eee2-955d-41a2-81a9-e70d95955e7e",
   "metadata": {},
   "outputs": [],
   "source": [
    "# Q-4\n",
    "# How can we achieve data abstraction?\n",
    "# ans_4\n",
    "# One way of achieving Data Abstraction is to create abstract classes and abstract methods using the abc module in python.\n",
    "# These abstract classes acts like bluprints for its derived classes and one cannot createa objects of these classes directly."
   ]
  },
  {
   "cell_type": "code",
   "execution_count": null,
   "id": "53d69f44-9bf0-4957-a4da-2e6ed6a8afbf",
   "metadata": {},
   "outputs": [],
   "source": [
    "# Q-5\n",
    "# Can we create an instance of an abstract class? Explain your answer.\n",
    "# ans_5\n",
    "# No, you cannot create an instance of an abstract class in Python.\n",
    "# An abstract class is a class that contains one or more abstract methods, which are methods that have no implementation.\n",
    "# The purpose of an abstract class is to serve as a base class for other classes, providing them with a common interface.\n",
    "\n",
    "In order to use an abstract class, you need to create a subclass that implements all of its abstract methods.\n",
    "Then, you can create an instance of the subclass.\n",
    "This is because the abstract class itself cannot be instantiated, since it contains abstract methods that have no implementation."
   ]
  }
 ],
 "metadata": {
  "kernelspec": {
   "display_name": "Python 3 (ipykernel)",
   "language": "python",
   "name": "python3"
  },
  "language_info": {
   "codemirror_mode": {
    "name": "ipython",
    "version": 3
   },
   "file_extension": ".py",
   "mimetype": "text/x-python",
   "name": "python",
   "nbconvert_exporter": "python",
   "pygments_lexer": "ipython3",
   "version": "3.10.8"
  }
 },
 "nbformat": 4,
 "nbformat_minor": 5
}
